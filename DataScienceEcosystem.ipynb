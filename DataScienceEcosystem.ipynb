{
 "cells": [
  {
   "cell_type": "markdown",
   "id": "365b4cbb-1762-4079-9804-90225a749af8",
   "metadata": {},
   "source": [
    "## Author\n",
    "Emmanuel Oguchi Chukwuemeka"
   ]
  },
  {
   "cell_type": "markdown",
   "id": "78c57c96-3d89-4c74-b3b2-5f2b2773219a",
   "metadata": {},
   "source": [
    "# Data Science Tools and Ecosystem"
   ]
  },
  {
   "cell_type": "markdown",
   "id": "44744906-8510-4cc2-bed2-fb9d0f750e97",
   "metadata": {},
   "source": [
    "In this notebook, Data Science Tools and Ecosystem are summarized.\n"
   ]
  },
  {
   "cell_type": "markdown",
   "id": "9e536069-2236-4e91-943d-371a7f984aa0",
   "metadata": {},
   "source": [
    "**Objectives:**\n",
    "+ List popular languages for Data Science\n",
    "+ List commonly used libraries used by Data Scientists\n",
    "+ Evaluate arithmetic expressions"
   ]
  },
  {
   "cell_type": "markdown",
   "id": "85075ec1-4c52-4ccb-8261-3fbb15735fd4",
   "metadata": {},
   "source": [
    "Some of the popular languages that Data Scientists use are:\n",
    "1. Python\n",
    "2. R\n",
    "3. Julia\n",
    "4. Scala"
   ]
  },
  {
   "cell_type": "markdown",
   "id": "ae335526-cb4e-4e24-b7ff-2366e8b4df3b",
   "metadata": {},
   "source": [
    "Some of the commonly used libraries used by Data Scientists include:\n",
    "1. Numpy\n",
    "2. Pandas\n",
    "3. Matplotlib\n",
    "4. Tensorflow\n",
    "5. Scikit-learn"
   ]
  },
  {
   "cell_type": "markdown",
   "id": "032fa5f2-96b9-43df-af97-579bd62b415d",
   "metadata": {},
   "source": [
    "|Data Science Tools|\n",
    "|------------------|  \n",
    "|Jupyter Labs      | \n",
    "|Jupyter Notebooks | \n",
    "|R studio          |   "
   ]
  },
  {
   "cell_type": "markdown",
   "id": "15eb992b-af79-4400-82aa-d5d2e69741e1",
   "metadata": {},
   "source": [
    "### Below are a few examples of evaluating arithmetic expressions in Python"
   ]
  },
  {
   "cell_type": "code",
   "execution_count": 1,
   "id": "d8874651-5c27-4082-b605-ef65235b5dcd",
   "metadata": {},
   "outputs": [
    {
     "data": {
      "text/plain": [
       "17"
      ]
     },
     "execution_count": 1,
     "metadata": {},
     "output_type": "execute_result"
    }
   ],
   "source": [
    " #This a simple arithmetic expression to mutiply then add integers\n",
    "(3*4)+5"
   ]
  },
  {
   "cell_type": "code",
   "execution_count": 1,
   "id": "ebcaf1bc-41a3-46e8-980d-204933cae53b",
   "metadata": {},
   "outputs": [
    {
     "name": "stdout",
     "output_type": "stream",
     "text": [
      "200 minutes to hours is : 3.3333333333333335 hours\n"
     ]
    }
   ],
   "source": [
    "#This will convert 200 minutes to hours by dividing by 60\n",
    "print('200 minutes to hours is :', (200/60), 'hours')"
   ]
  },
  {
   "cell_type": "code",
   "execution_count": null,
   "id": "fef21d7e-6174-4913-9108-390798fe012f",
   "metadata": {},
   "outputs": [],
   "source": []
  }
 ],
 "metadata": {
  "kernelspec": {
   "display_name": "Python 3 (ipykernel)",
   "language": "python",
   "name": "python3"
  },
  "language_info": {
   "codemirror_mode": {
    "name": "ipython",
    "version": 3
   },
   "file_extension": ".py",
   "mimetype": "text/x-python",
   "name": "python",
   "nbconvert_exporter": "python",
   "pygments_lexer": "ipython3",
   "version": "3.11.9"
  }
 },
 "nbformat": 4,
 "nbformat_minor": 5
}
